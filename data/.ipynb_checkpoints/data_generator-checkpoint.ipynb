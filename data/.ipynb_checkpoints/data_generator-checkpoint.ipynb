{
 "cells": [
  {
   "cell_type": "code",
   "execution_count": 1,
   "metadata": {},
   "outputs": [],
   "source": [
    "import cv2 as cv\n",
    "import numpy as np\n",
    "import os\n",
    "import h5py\n",
    "\n",
    "directory_name = \"D:\\\\jupyter\\\\Super-Resolution\\\\model1\\\\data\\\\ground_truth\"\n",
    "i=0\n",
    "\n",
    "train_data=[]\n",
    "train_ground_truth=[]\n",
    "# test_data=[]\n",
    "# test_ground_truth=[]\n",
    "\n",
    "for filename in os.listdir(directory_name):\n",
    "    image1=cv.imread(os.path.join(directory_name,filename), 0)\n",
    "\n",
    "    blur = cv.GaussianBlur(image1,(3,3),0)\n",
    "#     cv.imshow(\"\",blur)\n",
    "#     path=\"D:\\\\jupyter\\\\Super-Resolution\\\\dataOCTA\\\\ground_truth\"\n",
    "#     cv.imwrite(os.path.join(path, 'blur_'+filename), blur)\n",
    "    \n",
    "    train_data.append(blur)\n",
    "    train_ground_truth.append(image1)\n"
   ]
  },
  {
   "cell_type": "code",
   "execution_count": 2,
   "metadata": {},
   "outputs": [],
   "source": [
    "with h5py.File('train.h5', 'w') as f:\n",
    "    f.create_dataset('data',data=train_data)\n",
    "    f.create_dataset('label', data=train_ground_truth)\n",
    "#     f.create_dataset('X_test', data=test_data)\n",
    "#     f.create_dataset('y_test', data=test_ground_truth)\n",
    "    f.close()"
   ]
  },
  {
   "cell_type": "code",
   "execution_count": 3,
   "metadata": {},
   "outputs": [
    {
     "name": "stdout",
     "output_type": "stream",
     "text": [
      "(300, 400, 400)\n",
      "(300, 400, 400)\n"
     ]
    }
   ],
   "source": [
    "train_dataset = h5py.File('train.h5', 'r')\n",
    "train_set_x_orig = np.array(train_dataset['data'][:]) \n",
    "train_set_y_orig = np.array(train_dataset['label'][:]) \n",
    "# test_set_x_orig = np.array(train_dataset['X_test'][:]) \n",
    "# test_set_y_orig = np.array(train_dataset['y_test'][:]) \n",
    "f.close()\n",
    "\n",
    "print(train_set_x_orig.shape)\n",
    "print(train_set_y_orig.shape)\n"
   ]
  },
  {
   "cell_type": "code",
   "execution_count": null,
   "metadata": {},
   "outputs": [],
   "source": []
  }
 ],
 "metadata": {
  "kernelspec": {
   "display_name": "Python 3",
   "language": "python",
   "name": "python3"
  },
  "language_info": {
   "codemirror_mode": {
    "name": "ipython",
    "version": 3
   },
   "file_extension": ".py",
   "mimetype": "text/x-python",
   "name": "python",
   "nbconvert_exporter": "python",
   "pygments_lexer": "ipython3",
   "version": "3.6.5"
  }
 },
 "nbformat": 4,
 "nbformat_minor": 2
}
