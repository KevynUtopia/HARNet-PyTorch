{
 "cells": [
  {
   "cell_type": "code",
   "execution_count": 1,
   "metadata": {},
   "outputs": [],
   "source": [
    "import cv2 as cv\n",
    "import numpy as np\n",
    "import os\n",
    "import h5py\n",
    "\n",
    "directory_name = \"D:\\\\jupyter\\\\Super-Resolution\\\\dataOCTA\\\\OCTA(FULL)6m\"\n",
    "i=0\n",
    "\n",
    "train_data=[]\n",
    "train_ground_truth=[]\n",
    "test_data=[]\n",
    "test_ground_truth=[]\n",
    "\n",
    "for filename in os.listdir(directory_name):\n",
    "    image1=cv.imread(os.path.join(directory_name,filename), 0)\n",
    "\n",
    "    blur = cv.GaussianBlur(image1,(3,3),0)\n",
    "#     cv.imshow(\"\",blur)\n",
    "    path=\"D:\\\\jupyter\\\\Super-Resolution\\\\dataOCTA\\\\ground_truth\"\n",
    "    cv.imwrite(os.path.join(path, 'blur_'+filename), blur)\n",
    "    \n",
    "    if i<210:\n",
    "        train_data.append(image1)\n",
    "        train_ground_truth.append(blur)\n",
    "    else:\n",
    "        test_data.append(image1)\n",
    "        test_ground_truth.append(blur)\n",
    "    i+=1\n"
   ]
  },
  {
   "cell_type": "code",
   "execution_count": null,
   "metadata": {},
   "outputs": [],
   "source": []
  },
  {
   "cell_type": "code",
   "execution_count": 2,
   "metadata": {},
   "outputs": [],
   "source": [
    "with h5py.File('data.h5', 'w') as f:\n",
    "    f.create_dataset('X_train',data=train_data)\n",
    "    f.create_dataset('y_train', data=train_ground_truth)\n",
    "    f.create_dataset('X_test', data=test_data)\n",
    "    f.create_dataset('y_test', data=test_ground_truth)\n",
    "    f.close()"
   ]
  },
  {
   "cell_type": "code",
   "execution_count": 3,
   "metadata": {},
   "outputs": [
    {
     "name": "stdout",
     "output_type": "stream",
     "text": [
      "(210, 400, 400)\n",
      "(210, 400, 400)\n",
      "(90, 400, 400)\n",
      "(90, 400, 400)\n"
     ]
    }
   ],
   "source": [
    "train_dataset = h5py.File('data.h5', 'r')\n",
    "train_set_x_orig = np.array(train_dataset['X_train'][:]) \n",
    "train_set_y_orig = np.array(train_dataset['y_train'][:]) \n",
    "test_set_x_orig = np.array(train_dataset['X_test'][:]) \n",
    "test_set_y_orig = np.array(train_dataset['y_test'][:]) \n",
    "f.close()\n",
    "\n",
    "print(train_set_x_orig.shape)\n",
    "print(train_set_y_orig.shape)\n",
    "\n",
    "print(test_set_x_orig.shape)\n",
    "print(test_set_y_orig.shape)"
   ]
  },
  {
   "cell_type": "code",
   "execution_count": 3,
   "metadata": {},
   "outputs": [],
   "source": [
    "import os\n",
    "path=\"D:\\\\jupyter\\\\Super-Resolution\\\\data\\\\train_rename\\\\label\"  \n",
    "num = 1\n",
    "for file in os.listdir(path):\n",
    "    os.rename(os.path.join(path,file),os.path.join(path,\"label_\"+str(num))+\".bmp\")\n",
    "    num = num + 1"
   ]
  },
  {
   "cell_type": "code",
   "execution_count": 17,
   "metadata": {},
   "outputs": [],
   "source": [
    "path=\"D:\\\\jupyter\\\\Super-Resolution\\\\HARNet\\\\train_backup_2\"  \n",
    "# num = 1\n",
    "with open('data4.txt','w') as f:    \n",
    "    for num in range(90):\n",
    "        num+=211\n",
    "        label = str(10000+num)+\".bmp\"\n",
    "        data = \"blur_\"+str(10000 + num)+\".bmp\"\n",
    "        cont = data + ' ' + label + '\\n'\n",
    "        f.write(cont) \n",
    "        \n",
    "f.close()"
   ]
  },
  {
   "cell_type": "code",
   "execution_count": 8,
   "metadata": {},
   "outputs": [],
   "source": [
    "line=\"1123.bmp 1\"\n",
    "content = line.rstrip().split(' ')"
   ]
  },
  {
   "cell_type": "code",
   "execution_count": 10,
   "metadata": {},
   "outputs": [],
   "source": [
    "path=\"123\"\n",
    "content = os.path.join(path,\"label_\"+str(num))+\".bmp\""
   ]
  },
  {
   "cell_type": "code",
   "execution_count": 11,
   "metadata": {},
   "outputs": [
    {
     "data": {
      "text/plain": [
       "'123\\\\label_211.bmp'"
      ]
     },
     "execution_count": 11,
     "metadata": {},
     "output_type": "execute_result"
    }
   ],
   "source": [
    "content"
   ]
  },
  {
   "cell_type": "code",
   "execution_count": null,
   "metadata": {},
   "outputs": [],
   "source": []
  },
  {
   "cell_type": "code",
   "execution_count": null,
   "metadata": {},
   "outputs": [],
   "source": []
  }
 ],
 "metadata": {
  "kernelspec": {
   "display_name": "Python 3",
   "language": "python",
   "name": "python3"
  },
  "language_info": {
   "codemirror_mode": {
    "name": "ipython",
    "version": 3
   },
   "file_extension": ".py",
   "mimetype": "text/x-python",
   "name": "python",
   "nbconvert_exporter": "python",
   "pygments_lexer": "ipython3",
   "version": "3.6.5"
  }
 },
 "nbformat": 4,
 "nbformat_minor": 2
}
